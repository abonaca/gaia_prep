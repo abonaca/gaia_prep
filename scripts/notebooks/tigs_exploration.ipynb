{
 "cells": [
  {
   "cell_type": "code",
   "execution_count": 1,
   "metadata": {
    "collapsed": true
   },
   "outputs": [],
   "source": [
    "from __future__ import print_function, division\n",
    "\n",
    "import numpy as np\n",
    "import matplotlib as mpl\n",
    "import matplotlib.pyplot as plt\n",
    "\n",
    "from astropy.table import Table\n",
    "\n",
    "import astropy.units as u\n",
    "import astropy.coordinates as coord\n",
    "import gary.coordinates as gc\n",
    "\n",
    "%matplotlib inline\n",
    "plt.style.use('notebook')"
   ]
  },
  {
   "cell_type": "code",
   "execution_count": 2,
   "metadata": {
    "collapsed": true
   },
   "outputs": [],
   "source": [
    "tigs = Table.read('../../data/TIGS_v5.0.fits')"
   ]
  },
  {
   "cell_type": "code",
   "execution_count": 3,
   "metadata": {
    "collapsed": false
   },
   "outputs": [
    {
     "data": {
      "text/plain": [
       "['Tycho_ID',\n",
       " 'Tycho_RA',\n",
       " 'Tycho_Dec',\n",
       " 'Tycho_Galactic_l',\n",
       " 'Tycho_Galactic_b',\n",
       " 'Tycho_B_Mag',\n",
       " 'Tycho_B_Mag_Err',\n",
       " 'Tycho_V_Mag',\n",
       " 'Tycho_V_Mag_Err',\n",
       " 'EBV',\n",
       " 'TMASS_ID',\n",
       " 'TMASS_J_Mag',\n",
       " 'TMASS_J_Mag_Err',\n",
       " 'TMASS_H_Mag',\n",
       " 'TMASS_H_Mag_Err',\n",
       " 'TMASS_K_Mag',\n",
       " 'TMASS_K_Mag_Err',\n",
       " 'Wise_ID',\n",
       " 'Wise_W1_Mag',\n",
       " 'Wise_W1_Mag_Err',\n",
       " 'Wise_W2_Mag',\n",
       " 'Wise_W2_Mag_Err',\n",
       " 'Wise_W3_Mag',\n",
       " 'Wise_W3_Mag_Err',\n",
       " 'Wise_W4_Mag',\n",
       " 'Wise_W4_Mag_Err',\n",
       " 'HIP_ID',\n",
       " 'HIP_Parallax',\n",
       " 'HIP_Parallax_Err',\n",
       " 'HIP_Proper_Motion_RA',\n",
       " 'HIP_Proper_Motion_RA_Err',\n",
       " 'HIP_Proper_Motion_Dec',\n",
       " 'HIP_Proper_Motion_Dec_Err',\n",
       " 'HIP_Hp_Mag',\n",
       " 'HIP_Hp_Mag_Err',\n",
       " 'HIP_B_V',\n",
       " 'HIP_V_I',\n",
       " 'APOGEE_Teff',\n",
       " 'APOGEE_Logg',\n",
       " 'APOGEE_FeH',\n",
       " 'APOGEE_AlphaFe',\n",
       " 'APOGEE_Heliocentric_RV',\n",
       " 'APOGEE_Heliocentric_RV_Err',\n",
       " 'RAVE_Teff',\n",
       " 'RAVE_Logg',\n",
       " 'RAVE_FeH',\n",
       " 'RAVE_Heliocentric_RV',\n",
       " 'RAVE_Heliocentric_RV_Err',\n",
       " 'Pastel_Teff',\n",
       " 'Pastel_Logg',\n",
       " 'Pastel_FeH',\n",
       " 'LAMOST_Teff',\n",
       " 'LAMOST_Logg',\n",
       " 'LAMOST_FeH',\n",
       " 'LAMOST_Heliocentric_RV',\n",
       " 'LAMOST_Heliocentric_RV_Err',\n",
       " 'Average_Teff',\n",
       " 'Average_Logg',\n",
       " 'Average_FeH',\n",
       " 'Average_Heliocentric_RV',\n",
       " 'Position_X',\n",
       " 'Position_Y',\n",
       " 'Position_Z',\n",
       " 'Velocity_X',\n",
       " 'Velocity_Y',\n",
       " 'Velocity_Z',\n",
       " 'Close_Pairs',\n",
       " 'Cluster_128']"
      ]
     },
     "execution_count": 3,
     "metadata": {},
     "output_type": "execute_result"
    }
   ],
   "source": [
    "tigs.colnames"
   ]
  },
  {
   "cell_type": "code",
   "execution_count": 4,
   "metadata": {
    "collapsed": false
   },
   "outputs": [
    {
     "data": {
      "text/plain": [
       "402587"
      ]
     },
     "execution_count": 4,
     "metadata": {},
     "output_type": "execute_result"
    }
   ],
   "source": [
    "np.sum(np.isfinite(tigs['Average_Heliocentric_RV']))"
   ]
  },
  {
   "cell_type": "code",
   "execution_count": 5,
   "metadata": {
    "collapsed": false
   },
   "outputs": [],
   "source": [
    "has_rv = (tigs['APOGEE_Heliocentric_RV']!=-999) | (tigs['RAVE_Heliocentric_RV']!=-999) | (tigs['LAMOST_Heliocentric_RV']!=-999)"
   ]
  },
  {
   "cell_type": "code",
   "execution_count": 6,
   "metadata": {
    "collapsed": false
   },
   "outputs": [
    {
     "data": {
      "text/plain": [
       "406348"
      ]
     },
     "execution_count": 6,
     "metadata": {},
     "output_type": "execute_result"
    }
   ],
   "source": [
    "np.sum(has_rv)"
   ]
  },
  {
   "cell_type": "code",
   "execution_count": null,
   "metadata": {
    "collapsed": false,
    "scrolled": true
   },
   "outputs": [],
   "source": [
    "plt.subplot(111, projection='aitoff')\n",
    "plt.plot(tigs['Tycho_RA'][has_rv], tigs['Tycho_Dec'][has_rv], 'ko', ms=1, alpha=0.1)"
   ]
  },
  {
   "cell_type": "code",
   "execution_count": 24,
   "metadata": {
    "collapsed": false
   },
   "outputs": [
    {
     "data": {
      "text/plain": [
       "2539913"
      ]
     },
     "execution_count": 24,
     "metadata": {},
     "output_type": "execute_result"
    }
   ],
   "source": [
    "np.size(tigs['Tycho_RA'])"
   ]
  },
  {
   "cell_type": "code",
   "execution_count": null,
   "metadata": {
    "collapsed": true
   },
   "outputs": [],
   "source": []
  }
 ],
 "metadata": {
  "kernelspec": {
   "display_name": "Python 2",
   "language": "python",
   "name": "python2"
  },
  "language_info": {
   "codemirror_mode": {
    "name": "ipython",
    "version": 2
   },
   "file_extension": ".py",
   "mimetype": "text/x-python",
   "name": "python",
   "nbconvert_exporter": "python",
   "pygments_lexer": "ipython2",
   "version": "2.7.8"
  }
 },
 "nbformat": 4,
 "nbformat_minor": 0
}
